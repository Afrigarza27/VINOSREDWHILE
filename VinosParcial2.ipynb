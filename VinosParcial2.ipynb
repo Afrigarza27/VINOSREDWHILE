{
 "cells": [
  {
   "cell_type": "code",
   "execution_count": 2,
   "id": "15bcd887",
   "metadata": {},
   "outputs": [],
   "source": [
    "# Importar las librerias que correspondan. \n",
    "\n",
    "import pandas as pd\n",
    "import matplotlib.pyplot as plt\n",
    "import numpy as np\n",
    "import seaborn as sns\n",
    "%matplotlib inline"
   ]
  },
  {
   "cell_type": "code",
   "execution_count": 3,
   "id": "41c6be3e",
   "metadata": {},
   "outputs": [],
   "source": [
    "# 2. Carga de Datos.\n",
    "\n",
    "vinosred = pd.read_csv('winequality-red.csv', sep=\";\")\n",
    "vinoswhite = pd.read_csv('winequality-white.csv', sep=\";\")\n"
   ]
  },
  {
   "cell_type": "code",
   "execution_count": 4,
   "id": "0861c82e",
   "metadata": {},
   "outputs": [],
   "source": [
    "bd = pd.concat([vinosred, vinoswhite])"
   ]
  },
  {
   "cell_type": "code",
   "execution_count": 5,
   "id": "f827d124",
   "metadata": {},
   "outputs": [
    {
     "name": "stdout",
     "output_type": "stream",
     "text": [
      "   fixed acidity  volatile acidity  citric acid  residual sugar  chlorides  \\\n",
      "0            7.0              0.27         0.36            20.7      0.045   \n",
      "1            6.3              0.30         0.34             1.6      0.049   \n",
      "2            8.1              0.28         0.40             6.9      0.050   \n",
      "3            7.2              0.23         0.32             8.5      0.058   \n",
      "4            7.2              0.23         0.32             8.5      0.058   \n",
      "\n",
      "   free sulfur dioxide  total sulfur dioxide  density    pH  sulphates  \\\n",
      "0                 45.0                 170.0   1.0010  3.00       0.45   \n",
      "1                 14.0                 132.0   0.9940  3.30       0.49   \n",
      "2                 30.0                  97.0   0.9951  3.26       0.44   \n",
      "3                 47.0                 186.0   0.9956  3.19       0.40   \n",
      "4                 47.0                 186.0   0.9956  3.19       0.40   \n",
      "\n",
      "   alcohol  quality Tipo_Vino  \n",
      "0      8.8        6     white  \n",
      "1      9.5        6     white  \n",
      "2     10.1        6     white  \n",
      "3      9.9        6     white  \n",
      "4      9.9        6     white  \n"
     ]
    }
   ],
   "source": [
    "# 4. Se agrega la columna \"Tipo_Vino\" y se concatena, despues se muestra. \n",
    "\n",
    "# Agregar una columna \"Tipo_Vino\" a cada conjunto de datos\n",
    "vinosred['Tipo_Vino'] = 'red'\n",
    "vinoswhite['Tipo_Vino'] = 'white'\n",
    "\n",
    "# Concatenar los dos conjuntos de datos en uno solo\n",
    "bd = pd.concat([vinoswhite, vinosred])\n",
    "\n",
    "# Mostrar el conjunto de datos resultante\n",
    "print(bd.head())\n"
   ]
  },
  {
   "cell_type": "code",
   "execution_count": 6,
   "id": "8a8e64c1",
   "metadata": {},
   "outputs": [
    {
     "name": "stdout",
     "output_type": "stream",
     "text": [
      "<bound method NDFrame.describe of       fixed acidity  volatile acidity  citric acid  residual sugar  chlorides  \\\n",
      "0               7.0             0.270         0.36            20.7      0.045   \n",
      "1               6.3             0.300         0.34             1.6      0.049   \n",
      "2               8.1             0.280         0.40             6.9      0.050   \n",
      "3               7.2             0.230         0.32             8.5      0.058   \n",
      "4               7.2             0.230         0.32             8.5      0.058   \n",
      "...             ...               ...          ...             ...        ...   \n",
      "1594            6.2             0.600         0.08             2.0      0.090   \n",
      "1595            5.9             0.550         0.10             2.2      0.062   \n",
      "1596            6.3             0.510         0.13             2.3      0.076   \n",
      "1597            5.9             0.645         0.12             2.0      0.075   \n",
      "1598            6.0             0.310         0.47             3.6      0.067   \n",
      "\n",
      "      free sulfur dioxide  total sulfur dioxide  density    pH  sulphates  \\\n",
      "0                    45.0                 170.0  1.00100  3.00       0.45   \n",
      "1                    14.0                 132.0  0.99400  3.30       0.49   \n",
      "2                    30.0                  97.0  0.99510  3.26       0.44   \n",
      "3                    47.0                 186.0  0.99560  3.19       0.40   \n",
      "4                    47.0                 186.0  0.99560  3.19       0.40   \n",
      "...                   ...                   ...      ...   ...        ...   \n",
      "1594                 32.0                  44.0  0.99490  3.45       0.58   \n",
      "1595                 39.0                  51.0  0.99512  3.52       0.76   \n",
      "1596                 29.0                  40.0  0.99574  3.42       0.75   \n",
      "1597                 32.0                  44.0  0.99547  3.57       0.71   \n",
      "1598                 18.0                  42.0  0.99549  3.39       0.66   \n",
      "\n",
      "      alcohol  quality Tipo_Vino  \n",
      "0         8.8        6     white  \n",
      "1         9.5        6     white  \n",
      "2        10.1        6     white  \n",
      "3         9.9        6     white  \n",
      "4         9.9        6     white  \n",
      "...       ...      ...       ...  \n",
      "1594     10.5        5       red  \n",
      "1595     11.2        6       red  \n",
      "1596     11.0        6       red  \n",
      "1597     10.2        5       red  \n",
      "1598     11.0        6       red  \n",
      "\n",
      "[6497 rows x 13 columns]>\n",
      "       fixed acidity  volatile acidity  citric acid  residual sugar  \\\n",
      "count    6497.000000       6497.000000  6497.000000     6497.000000   \n",
      "mean        7.215307          0.339666     0.318633        5.443235   \n",
      "std         1.296434          0.164636     0.145318        4.757804   \n",
      "min         3.800000          0.080000     0.000000        0.600000   \n",
      "25%         6.400000          0.230000     0.250000        1.800000   \n",
      "50%         7.000000          0.290000     0.310000        3.000000   \n",
      "75%         7.700000          0.400000     0.390000        8.100000   \n",
      "max        15.900000          1.580000     1.660000       65.800000   \n",
      "\n",
      "         chlorides  free sulfur dioxide  total sulfur dioxide      density  \\\n",
      "count  6497.000000          6497.000000           6497.000000  6497.000000   \n",
      "mean      0.056034            30.525319            115.744574     0.994697   \n",
      "std       0.035034            17.749400             56.521855     0.002999   \n",
      "min       0.009000             1.000000              6.000000     0.987110   \n",
      "25%       0.038000            17.000000             77.000000     0.992340   \n",
      "50%       0.047000            29.000000            118.000000     0.994890   \n",
      "75%       0.065000            41.000000            156.000000     0.996990   \n",
      "max       0.611000           289.000000            440.000000     1.038980   \n",
      "\n",
      "                pH    sulphates      alcohol      quality  \n",
      "count  6497.000000  6497.000000  6497.000000  6497.000000  \n",
      "mean      3.218501     0.531268    10.491801     5.818378  \n",
      "std       0.160787     0.148806     1.192712     0.873255  \n",
      "min       2.720000     0.220000     8.000000     3.000000  \n",
      "25%       3.110000     0.430000     9.500000     5.000000  \n",
      "50%       3.210000     0.510000    10.300000     6.000000  \n",
      "75%       3.320000     0.600000    11.300000     6.000000  \n",
      "max       4.010000     2.000000    14.900000     9.000000  \n"
     ]
    },
    {
     "ename": "TypeError",
     "evalue": "unsupported operand type(s) for -: 'NoneType' and 'NoneType'",
     "output_type": "error",
     "traceback": [
      "\u001b[1;31m---------------------------------------------------------------------------\u001b[0m",
      "\u001b[1;31mTypeError\u001b[0m                                 Traceback (most recent call last)",
      "Cell \u001b[1;32mIn[6], line 3\u001b[0m\n\u001b[0;32m      1\u001b[0m \u001b[38;5;66;03m# 5. Dscripción estadistica del DataFrame. \u001b[39;00m\n\u001b[1;32m----> 3\u001b[0m \u001b[38;5;28mprint\u001b[39m(bd\u001b[38;5;241m.\u001b[39mdescribe) \u001b[38;5;241m-\u001b[39m \u001b[38;5;28mprint\u001b[39m(bd\u001b[38;5;241m.\u001b[39mdescribe())\n",
      "\u001b[1;31mTypeError\u001b[0m: unsupported operand type(s) for -: 'NoneType' and 'NoneType'"
     ]
    }
   ],
   "source": [
    "# 5. Dscripción estadistica del DataFrame. \n",
    "\n",
    "print(bd.describe) - print(bd.describe())"
   ]
  },
  {
   "cell_type": "code",
   "execution_count": 7,
   "id": "82adfb02",
   "metadata": {},
   "outputs": [
    {
     "name": "stdout",
     "output_type": "stream",
     "text": [
      "Index(['fixed acidity', 'volatile acidity', 'citric acid', 'residual sugar',\n",
      "       'chlorides', 'free sulfur dioxide', 'total sulfur dioxide', 'density',\n",
      "       'pH', 'sulphates', 'alcohol', 'quality', 'Tipo_Vino'],\n",
      "      dtype='object')\n"
     ]
    }
   ],
   "source": [
    "# 6. Imprimir el nombre de las columnas. \n",
    "\n",
    "print(bd.columns) "
   ]
  },
  {
   "cell_type": "code",
   "execution_count": 8,
   "id": "c71846c1",
   "metadata": {},
   "outputs": [
    {
     "name": "stdout",
     "output_type": "stream",
     "text": [
      "<class 'pandas.core.frame.DataFrame'>\n",
      "Index: 6497 entries, 0 to 1598\n",
      "Data columns (total 13 columns):\n",
      " #   Column                Non-Null Count  Dtype  \n",
      "---  ------                --------------  -----  \n",
      " 0   fixed acidity         6497 non-null   float64\n",
      " 1   volatile acidity      6497 non-null   float64\n",
      " 2   citric acid           6497 non-null   float64\n",
      " 3   residual sugar        6497 non-null   float64\n",
      " 4   chlorides             6497 non-null   float64\n",
      " 5   free sulfur dioxide   6497 non-null   float64\n",
      " 6   total sulfur dioxide  6497 non-null   float64\n",
      " 7   density               6497 non-null   float64\n",
      " 8   pH                    6497 non-null   float64\n",
      " 9   sulphates             6497 non-null   float64\n",
      " 10  alcohol               6497 non-null   float64\n",
      " 11  quality               6497 non-null   int64  \n",
      " 12  Tipo_Vino             6497 non-null   object \n",
      "dtypes: float64(11), int64(1), object(1)\n",
      "memory usage: 710.6+ KB\n",
      "None\n"
     ]
    }
   ],
   "source": [
    "# 7. Imprimir la información detallada del DataFrame \n",
    "\n",
    "print(bd.info())"
   ]
  },
  {
   "cell_type": "code",
   "execution_count": 10,
   "id": "8f8fb18f",
   "metadata": {},
   "outputs": [
    {
     "name": "stdout",
     "output_type": "stream",
     "text": [
      "     Tipo_Vino  residual sugar  alcohol  density\n",
      "0        white            20.7      8.8  1.00100\n",
      "1        white             1.6      9.5  0.99400\n",
      "2        white             6.9     10.1  0.99510\n",
      "3        white             8.5      9.9  0.99560\n",
      "4        white             8.5      9.9  0.99560\n",
      "...        ...             ...      ...      ...\n",
      "1594       red             2.0     10.5  0.99490\n",
      "1595       red             2.2     11.2  0.99512\n",
      "1596       red             2.3     11.0  0.99574\n",
      "1597       red             2.0     10.2  0.99547\n",
      "1598       red             3.6     11.0  0.99549\n",
      "\n",
      "[6497 rows x 4 columns]\n"
     ]
    }
   ],
   "source": [
    "# 9. Filtro solamente las columnas que quiero trabajar. \n",
    "\n",
    "bd = bd.loc[:, [\"Tipo_Vino\",\"residual sugar\", \"alcohol\", \"density\"]]\n",
    "print(bd)"
   ]
  },
  {
   "cell_type": "code",
   "execution_count": 11,
   "id": "091a4bfb",
   "metadata": {},
   "outputs": [
    {
     "name": "stdout",
     "output_type": "stream",
     "text": [
      "Promedio de densidad: 0.9946966338309989\n"
     ]
    }
   ],
   "source": [
    "# 10. Promedio o la media de la densidad - DATA WRANGLING.\n",
    "\n",
    "densidad = bd['density'].astype('float').mean(axis=0) \n",
    "print(\"Promedio de densidad:\", densidad) "
   ]
  },
  {
   "cell_type": "code",
   "execution_count": 12,
   "id": "980675d2",
   "metadata": {},
   "outputs": [
    {
     "data": {
      "text/plain": [
       "'white'"
      ]
     },
     "execution_count": 12,
     "metadata": {},
     "output_type": "execute_result"
    }
   ],
   "source": [
    "# 11. Moda o dato que mas se repite - DATA WRANGLING \n",
    "\n",
    "bd['Tipo_Vino'].value_counts().idxmax() "
   ]
  },
  {
   "cell_type": "code",
   "execution_count": 13,
   "id": "ac79d3f8",
   "metadata": {},
   "outputs": [
    {
     "name": "stdout",
     "output_type": "stream",
     "text": [
      "    Tipo_Vino  alcohol  count\n",
      "0         red     8.40      2\n",
      "1         red     8.50      1\n",
      "2         red     8.70      2\n",
      "3         red     8.80      2\n",
      "4         red     9.00     30\n",
      "..        ...      ...    ...\n",
      "163     white    13.80      2\n",
      "164     white    13.90      3\n",
      "165     white    14.00      5\n",
      "166     white    14.05      1\n",
      "167     white    14.20      1\n",
      "\n",
      "[168 rows x 3 columns]\n"
     ]
    }
   ],
   "source": [
    "# 12. Agrupación de los datos en el DataFrame\n",
    "\n",
    "datos_agrupados = bd.groupby(['Tipo_Vino', 'alcohol']).size().reset_index(name='count')\n",
    "print(datos_agrupados)\n"
   ]
  },
  {
   "cell_type": "code",
   "execution_count": 15,
   "id": "c59be44e",
   "metadata": {},
   "outputs": [
    {
     "data": {
      "image/png": "[encoded data removed]",
      "text/plain": [
       "<Figure size 640x480 with 1 Axes>"
      ]
     },
     "metadata": {},
     "output_type": "display_data"
    }
   ],
   "source": [
    "# 13. Creación de grafico de barras. \n",
    "\n",
    "plt.bar(datos_agrupados['Tipo_Vino'], datos_agrupados['count'], color='red')\n",
    "plt.xlabel('Tipo_Vino')\n",
    "plt.ylabel('alcohol')\n",
    "plt.title('GRAFICO DE BARRAS')\n",
    "plt.show()"
   ]
  },
  {
   "cell_type": "code",
   "execution_count": 16,
   "id": "8e143b4c",
   "metadata": {},
   "outputs": [
    {
     "data": {
      "text/html": [
       "<div>\n",
       "<style scoped>\n",
       "    .dataframe tbody tr th:only-of-type {\n",
       "        vertical-align: middle;\n",
       "    }\n",
       "\n",
       "    .dataframe tbody tr th {\n",
       "        vertical-align: top;\n",
       "    }\n",
       "\n",
       "    .dataframe thead th {\n",
       "        text-align: right;\n",
       "    }\n",
       "</style>\n",
       "<table border=\"1\" class=\"dataframe\">\n",
       "  <thead>\n",
       "    <tr style=\"text-align: right;\">\n",
       "      <th></th>\n",
       "      <th>residual sugar</th>\n",
       "      <th>density</th>\n",
       "    </tr>\n",
       "  </thead>\n",
       "  <tbody>\n",
       "    <tr>\n",
       "      <th>residual sugar</th>\n",
       "      <td>1.000000</td>\n",
       "      <td>0.552517</td>\n",
       "    </tr>\n",
       "    <tr>\n",
       "      <th>density</th>\n",
       "      <td>0.552517</td>\n",
       "      <td>1.000000</td>\n",
       "    </tr>\n",
       "  </tbody>\n",
       "</table>\n",
       "</div>"
      ],
      "text/plain": [
       "                residual sugar   density\n",
       "residual sugar        1.000000  0.552517\n",
       "density               0.552517  1.000000"
      ]
     },
     "execution_count": 16,
     "metadata": {},
     "output_type": "execute_result"
    }
   ],
   "source": [
    "# 14. Me muestra la correlacion entre densidad del azucar y el residual.\n",
    "\n",
    "bd[['residual sugar', 'density']].corr() "
   ]
  },
  {
   "cell_type": "code",
   "execution_count": null,
   "id": "94c66d76",
   "metadata": {},
   "outputs": [],
   "source": []
  }
 ],
 "metadata": {
  "kernelspec": {
   "display_name": "MiEntorno",
   "language": "python",
   "name": "mientorno"
  },
  "language_info": {
   "codemirror_mode": {
    "name": "ipython",
    "version": 3
   },
   "file_extension": ".py",
   "mimetype": "text/x-python",
   "name": "python",
   "nbconvert_exporter": "python",
   "pygments_lexer": "ipython3",
   "version": "3.11.3"
  }
 },
 "nbformat": 4,
 "nbformat_minor": 5
}
